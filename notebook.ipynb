{
 "cells": [
  {
   "cell_type": "code",
   "execution_count": 1,
   "metadata": {},
   "outputs": [],
   "source": [
    "#importing required modules\n",
    "import numpy as np\n",
    "import pandas as pd\n",
    "import seaborn as sns\n",
    "import matplotlib.pyplot as plt"
   ]
  },
  {
   "cell_type": "code",
   "execution_count": 2,
   "metadata": {},
   "outputs": [
    {
     "data": {
      "text/html": [
       "<div>\n",
       "<style scoped>\n",
       "    .dataframe tbody tr th:only-of-type {\n",
       "        vertical-align: middle;\n",
       "    }\n",
       "\n",
       "    .dataframe tbody tr th {\n",
       "        vertical-align: top;\n",
       "    }\n",
       "\n",
       "    .dataframe thead th {\n",
       "        text-align: right;\n",
       "    }\n",
       "</style>\n",
       "<table border=\"1\" class=\"dataframe\">\n",
       "  <thead>\n",
       "    <tr style=\"text-align: right;\">\n",
       "      <th></th>\n",
       "      <th>Region</th>\n",
       "      <th>Country</th>\n",
       "      <th>Item Type</th>\n",
       "      <th>Sales Channel</th>\n",
       "      <th>Order Priority</th>\n",
       "      <th>Order Date</th>\n",
       "      <th>Order ID</th>\n",
       "      <th>Ship Date</th>\n",
       "      <th>Units Sold</th>\n",
       "      <th>Unit Price</th>\n",
       "      <th>Unit Cost</th>\n",
       "      <th>Total Revenue</th>\n",
       "      <th>Total Cost</th>\n",
       "      <th>Total Profit</th>\n",
       "    </tr>\n",
       "  </thead>\n",
       "  <tbody>\n",
       "    <tr>\n",
       "      <th>0</th>\n",
       "      <td>Australia and Oceania</td>\n",
       "      <td>Tuvalu</td>\n",
       "      <td>Baby Food</td>\n",
       "      <td>Offline</td>\n",
       "      <td>H</td>\n",
       "      <td>5/28/2010</td>\n",
       "      <td>669165933</td>\n",
       "      <td>6/27/2010</td>\n",
       "      <td>9925</td>\n",
       "      <td>255.28</td>\n",
       "      <td>159.42</td>\n",
       "      <td>2533654.00</td>\n",
       "      <td>1582243.50</td>\n",
       "      <td>951410.50</td>\n",
       "    </tr>\n",
       "    <tr>\n",
       "      <th>1</th>\n",
       "      <td>Central America and the Caribbean</td>\n",
       "      <td>Grenada</td>\n",
       "      <td>Cereal</td>\n",
       "      <td>Online</td>\n",
       "      <td>C</td>\n",
       "      <td>8/22/2012</td>\n",
       "      <td>963881480</td>\n",
       "      <td>9/15/2012</td>\n",
       "      <td>2804</td>\n",
       "      <td>205.70</td>\n",
       "      <td>117.11</td>\n",
       "      <td>576782.80</td>\n",
       "      <td>328376.44</td>\n",
       "      <td>248406.36</td>\n",
       "    </tr>\n",
       "    <tr>\n",
       "      <th>2</th>\n",
       "      <td>Europe</td>\n",
       "      <td>Russia</td>\n",
       "      <td>Office Supplies</td>\n",
       "      <td>Offline</td>\n",
       "      <td>L</td>\n",
       "      <td>5/2/2014</td>\n",
       "      <td>341417157</td>\n",
       "      <td>5/8/2014</td>\n",
       "      <td>1779</td>\n",
       "      <td>651.21</td>\n",
       "      <td>524.96</td>\n",
       "      <td>1158502.59</td>\n",
       "      <td>933903.84</td>\n",
       "      <td>224598.75</td>\n",
       "    </tr>\n",
       "    <tr>\n",
       "      <th>3</th>\n",
       "      <td>Sub-Saharan Africa</td>\n",
       "      <td>Sao Tome and Principe</td>\n",
       "      <td>Fruits</td>\n",
       "      <td>Online</td>\n",
       "      <td>C</td>\n",
       "      <td>6/20/2014</td>\n",
       "      <td>514321792</td>\n",
       "      <td>7/5/2014</td>\n",
       "      <td>8102</td>\n",
       "      <td>9.33</td>\n",
       "      <td>6.92</td>\n",
       "      <td>75591.66</td>\n",
       "      <td>56065.84</td>\n",
       "      <td>19525.82</td>\n",
       "    </tr>\n",
       "    <tr>\n",
       "      <th>4</th>\n",
       "      <td>Sub-Saharan Africa</td>\n",
       "      <td>Rwanda</td>\n",
       "      <td>Office Supplies</td>\n",
       "      <td>Offline</td>\n",
       "      <td>L</td>\n",
       "      <td>2/1/2013</td>\n",
       "      <td>115456712</td>\n",
       "      <td>2/6/2013</td>\n",
       "      <td>5062</td>\n",
       "      <td>651.21</td>\n",
       "      <td>524.96</td>\n",
       "      <td>3296425.02</td>\n",
       "      <td>2657347.52</td>\n",
       "      <td>639077.50</td>\n",
       "    </tr>\n",
       "  </tbody>\n",
       "</table>\n",
       "</div>"
      ],
      "text/plain": [
       "                              Region                Country        Item Type  \\\n",
       "0              Australia and Oceania                 Tuvalu        Baby Food   \n",
       "1  Central America and the Caribbean                Grenada           Cereal   \n",
       "2                             Europe                 Russia  Office Supplies   \n",
       "3                 Sub-Saharan Africa  Sao Tome and Principe           Fruits   \n",
       "4                 Sub-Saharan Africa                 Rwanda  Office Supplies   \n",
       "\n",
       "  Sales Channel Order Priority Order Date   Order ID  Ship Date  Units Sold  \\\n",
       "0       Offline              H  5/28/2010  669165933  6/27/2010        9925   \n",
       "1        Online              C  8/22/2012  963881480  9/15/2012        2804   \n",
       "2       Offline              L   5/2/2014  341417157   5/8/2014        1779   \n",
       "3        Online              C  6/20/2014  514321792   7/5/2014        8102   \n",
       "4       Offline              L   2/1/2013  115456712   2/6/2013        5062   \n",
       "\n",
       "   Unit Price  Unit Cost  Total Revenue  Total Cost  Total Profit  \n",
       "0      255.28     159.42     2533654.00  1582243.50     951410.50  \n",
       "1      205.70     117.11      576782.80   328376.44     248406.36  \n",
       "2      651.21     524.96     1158502.59   933903.84     224598.75  \n",
       "3        9.33       6.92       75591.66    56065.84      19525.82  \n",
       "4      651.21     524.96     3296425.02  2657347.52     639077.50  "
      ]
     },
     "execution_count": 2,
     "metadata": {},
     "output_type": "execute_result"
    }
   ],
   "source": [
    "#reading the amazon sales data\n",
    "df = pd.read_csv('Amazon Sales data.csv')\n",
    "df.head(5)"
   ]
  },
  {
   "cell_type": "code",
   "execution_count": 3,
   "metadata": {},
   "outputs": [
    {
     "name": "stdout",
     "output_type": "stream",
     "text": [
      "Shape: (100, 14)\n",
      "Size: 1400\n"
     ]
    }
   ],
   "source": [
    "#Size and shape of the data\n",
    "print('Shape:', df.shape)\n",
    "print('Size:', df.size)"
   ]
  },
  {
   "cell_type": "code",
   "execution_count": 4,
   "metadata": {},
   "outputs": [
    {
     "name": "stdout",
     "output_type": "stream",
     "text": [
      "<class 'pandas.core.frame.DataFrame'>\n",
      "RangeIndex: 100 entries, 0 to 99\n",
      "Data columns (total 14 columns):\n",
      " #   Column          Non-Null Count  Dtype  \n",
      "---  ------          --------------  -----  \n",
      " 0   Region          100 non-null    object \n",
      " 1   Country         100 non-null    object \n",
      " 2   Item Type       100 non-null    object \n",
      " 3   Sales Channel   100 non-null    object \n",
      " 4   Order Priority  100 non-null    object \n",
      " 5   Order Date      100 non-null    object \n",
      " 6   Order ID        100 non-null    int64  \n",
      " 7   Ship Date       100 non-null    object \n",
      " 8   Units Sold      100 non-null    int64  \n",
      " 9   Unit Price      100 non-null    float64\n",
      " 10  Unit Cost       100 non-null    float64\n",
      " 11  Total Revenue   100 non-null    float64\n",
      " 12  Total Cost      100 non-null    float64\n",
      " 13  Total Profit    100 non-null    float64\n",
      "dtypes: float64(5), int64(2), object(7)\n",
      "memory usage: 8.3+ KB\n"
     ]
    }
   ],
   "source": [
    "#to understand the different data types present in the data\n",
    "df.info()"
   ]
  },
  {
   "cell_type": "code",
   "execution_count": 5,
   "metadata": {},
   "outputs": [
    {
     "name": "stdout",
     "output_type": "stream",
     "text": [
      "<class 'pandas.core.frame.DataFrame'>\n",
      "RangeIndex: 100 entries, 0 to 99\n",
      "Data columns (total 14 columns):\n",
      " #   Column          Non-Null Count  Dtype         \n",
      "---  ------          --------------  -----         \n",
      " 0   Region          100 non-null    object        \n",
      " 1   Country         100 non-null    object        \n",
      " 2   Item Type       100 non-null    object        \n",
      " 3   Sales Channel   100 non-null    object        \n",
      " 4   Order Priority  100 non-null    object        \n",
      " 5   Order Date      100 non-null    datetime64[ns]\n",
      " 6   Order ID        100 non-null    int64         \n",
      " 7   Ship Date       100 non-null    datetime64[ns]\n",
      " 8   Units Sold      100 non-null    int64         \n",
      " 9   Unit Price      100 non-null    float64       \n",
      " 10  Unit Cost       100 non-null    float64       \n",
      " 11  Total Revenue   100 non-null    float64       \n",
      " 12  Total Cost      100 non-null    float64       \n",
      " 13  Total Profit    100 non-null    float64       \n",
      "dtypes: datetime64[ns](2), float64(5), int64(2), object(5)\n",
      "memory usage: 9.0+ KB\n"
     ]
    }
   ],
   "source": [
    "#we notice that 'Order Date' and 'Ship Date' are in 'object' type but we need it as 'datetime' type\n",
    "#changing the 'Order Date' and 'Ship Date' to datetime:\n",
    "df['Order Date'] = pd.to_datetime(df['Order Date'])\n",
    "df['Ship Date'] = pd.to_datetime(df['Ship Date'])\n",
    "df.info() #to confirm changes have been made"
   ]
  },
  {
   "cell_type": "code",
   "execution_count": 6,
   "metadata": {},
   "outputs": [
    {
     "data": {
      "text/plain": [
       "(Timestamp('2010-02-02 00:00:00'), Timestamp('2017-05-22 00:00:00'))"
      ]
     },
     "execution_count": 6,
     "metadata": {},
     "output_type": "execute_result"
    }
   ],
   "source": [
    "#to understand the range of values present in dates - dates span 7 years.\n",
    "(df['Order Date'].min(), df['Order Date'].max())"
   ]
  },
  {
   "cell_type": "code",
   "execution_count": 7,
   "metadata": {},
   "outputs": [
    {
     "data": {
      "text/html": [
       "<div>\n",
       "<style scoped>\n",
       "    .dataframe tbody tr th:only-of-type {\n",
       "        vertical-align: middle;\n",
       "    }\n",
       "\n",
       "    .dataframe tbody tr th {\n",
       "        vertical-align: top;\n",
       "    }\n",
       "\n",
       "    .dataframe thead th {\n",
       "        text-align: right;\n",
       "    }\n",
       "</style>\n",
       "<table border=\"1\" class=\"dataframe\">\n",
       "  <thead>\n",
       "    <tr style=\"text-align: right;\">\n",
       "      <th></th>\n",
       "      <th>Order ID</th>\n",
       "      <th>Units Sold</th>\n",
       "      <th>Unit Price</th>\n",
       "      <th>Unit Cost</th>\n",
       "      <th>Total Revenue</th>\n",
       "      <th>Total Cost</th>\n",
       "      <th>Total Profit</th>\n",
       "    </tr>\n",
       "  </thead>\n",
       "  <tbody>\n",
       "    <tr>\n",
       "      <th>count</th>\n",
       "      <td>1.000000e+02</td>\n",
       "      <td>100.000000</td>\n",
       "      <td>100.000000</td>\n",
       "      <td>100.000000</td>\n",
       "      <td>1.000000e+02</td>\n",
       "      <td>1.000000e+02</td>\n",
       "      <td>1.000000e+02</td>\n",
       "    </tr>\n",
       "    <tr>\n",
       "      <th>mean</th>\n",
       "      <td>5.550204e+08</td>\n",
       "      <td>5128.710000</td>\n",
       "      <td>276.761300</td>\n",
       "      <td>191.048000</td>\n",
       "      <td>1.373488e+06</td>\n",
       "      <td>9.318057e+05</td>\n",
       "      <td>4.416820e+05</td>\n",
       "    </tr>\n",
       "    <tr>\n",
       "      <th>std</th>\n",
       "      <td>2.606153e+08</td>\n",
       "      <td>2794.484562</td>\n",
       "      <td>235.592241</td>\n",
       "      <td>188.208181</td>\n",
       "      <td>1.460029e+06</td>\n",
       "      <td>1.083938e+06</td>\n",
       "      <td>4.385379e+05</td>\n",
       "    </tr>\n",
       "    <tr>\n",
       "      <th>min</th>\n",
       "      <td>1.146066e+08</td>\n",
       "      <td>124.000000</td>\n",
       "      <td>9.330000</td>\n",
       "      <td>6.920000</td>\n",
       "      <td>4.870260e+03</td>\n",
       "      <td>3.612240e+03</td>\n",
       "      <td>1.258020e+03</td>\n",
       "    </tr>\n",
       "    <tr>\n",
       "      <th>25%</th>\n",
       "      <td>3.389225e+08</td>\n",
       "      <td>2836.250000</td>\n",
       "      <td>81.730000</td>\n",
       "      <td>35.840000</td>\n",
       "      <td>2.687212e+05</td>\n",
       "      <td>1.688680e+05</td>\n",
       "      <td>1.214436e+05</td>\n",
       "    </tr>\n",
       "    <tr>\n",
       "      <th>50%</th>\n",
       "      <td>5.577086e+08</td>\n",
       "      <td>5382.500000</td>\n",
       "      <td>179.880000</td>\n",
       "      <td>107.275000</td>\n",
       "      <td>7.523144e+05</td>\n",
       "      <td>3.635664e+05</td>\n",
       "      <td>2.907680e+05</td>\n",
       "    </tr>\n",
       "    <tr>\n",
       "      <th>75%</th>\n",
       "      <td>7.907551e+08</td>\n",
       "      <td>7369.000000</td>\n",
       "      <td>437.200000</td>\n",
       "      <td>263.330000</td>\n",
       "      <td>2.212045e+06</td>\n",
       "      <td>1.613870e+06</td>\n",
       "      <td>6.358288e+05</td>\n",
       "    </tr>\n",
       "    <tr>\n",
       "      <th>max</th>\n",
       "      <td>9.940222e+08</td>\n",
       "      <td>9925.000000</td>\n",
       "      <td>668.270000</td>\n",
       "      <td>524.960000</td>\n",
       "      <td>5.997055e+06</td>\n",
       "      <td>4.509794e+06</td>\n",
       "      <td>1.719922e+06</td>\n",
       "    </tr>\n",
       "  </tbody>\n",
       "</table>\n",
       "</div>"
      ],
      "text/plain": [
       "           Order ID   Units Sold  Unit Price   Unit Cost  Total Revenue  \\\n",
       "count  1.000000e+02   100.000000  100.000000  100.000000   1.000000e+02   \n",
       "mean   5.550204e+08  5128.710000  276.761300  191.048000   1.373488e+06   \n",
       "std    2.606153e+08  2794.484562  235.592241  188.208181   1.460029e+06   \n",
       "min    1.146066e+08   124.000000    9.330000    6.920000   4.870260e+03   \n",
       "25%    3.389225e+08  2836.250000   81.730000   35.840000   2.687212e+05   \n",
       "50%    5.577086e+08  5382.500000  179.880000  107.275000   7.523144e+05   \n",
       "75%    7.907551e+08  7369.000000  437.200000  263.330000   2.212045e+06   \n",
       "max    9.940222e+08  9925.000000  668.270000  524.960000   5.997055e+06   \n",
       "\n",
       "         Total Cost  Total Profit  \n",
       "count  1.000000e+02  1.000000e+02  \n",
       "mean   9.318057e+05  4.416820e+05  \n",
       "std    1.083938e+06  4.385379e+05  \n",
       "min    3.612240e+03  1.258020e+03  \n",
       "25%    1.688680e+05  1.214436e+05  \n",
       "50%    3.635664e+05  2.907680e+05  \n",
       "75%    1.613870e+06  6.358288e+05  \n",
       "max    4.509794e+06  1.719922e+06  "
      ]
     },
     "execution_count": 7,
     "metadata": {},
     "output_type": "execute_result"
    }
   ],
   "source": [
    "#to understand the values present in the data\n",
    "df.describe()\n",
    "#from this we can see that there are no improperly entered values or outliers. "
   ]
  },
  {
   "cell_type": "code",
   "execution_count": 8,
   "metadata": {},
   "outputs": [
    {
     "data": {
      "text/plain": [
       "Region            0\n",
       "Country           0\n",
       "Item Type         0\n",
       "Sales Channel     0\n",
       "Order Priority    0\n",
       "Order Date        0\n",
       "Order ID          0\n",
       "Ship Date         0\n",
       "Units Sold        0\n",
       "Unit Price        0\n",
       "Unit Cost         0\n",
       "Total Revenue     0\n",
       "Total Cost        0\n",
       "Total Profit      0\n",
       "dtype: int64"
      ]
     },
     "execution_count": 8,
     "metadata": {},
     "output_type": "execute_result"
    }
   ],
   "source": [
    "#to check whether there are any null values\n",
    "df.isnull().sum()\n",
    "#from this we can se that there are no empty values in any rows"
   ]
  },
  {
   "cell_type": "code",
   "execution_count": 9,
   "metadata": {},
   "outputs": [
    {
     "data": {
      "image/png": "[encoded data removed]",
      "text/plain": [
       "<Figure size 1440x720 with 1 Axes>"
      ]
     },
     "metadata": {
      "needs_background": "light"
     },
     "output_type": "display_data"
    }
   ],
   "source": [
    "#To understand number of orders by region\n",
    "orders_by_region = df.groupby('Region')['Order ID'].nunique()\n",
    "orders_by_region = pd.DataFrame(orders_by_region)\n",
    "orders_by_region = orders_by_region.rename(columns = {'Order ID' : 'Number of Orders'})\n",
    "plt.figure(figsize = (20,10))\n",
    "plt.title(\"Regional Distribution of Orders\", fontsize = 16)\n",
    "bar_plot = plt.bar(x = orders_by_region.index, height= orders_by_region['Number of Orders'])\n",
    "for bar in bar_plot:\n",
    "    height = bar.get_height()\n",
    "    plt.text(bar.get_x() + bar.get_width() / 2, height, '%d' % int(height),\n",
    "             ha='center', va='bottom')\n",
    "#From this we can understand that sub-saharan africa has placed the highest amount of orders."
   ]
  },
  {
   "cell_type": "code",
   "execution_count": 10,
   "metadata": {},
   "outputs": [
    {
     "data": {
      "image/png": "[encoded data removed]",
      "text/plain": [
       "<Figure size 432x288 with 1 Axes>"
      ]
     },
     "metadata": {
      "needs_background": "light"
     },
     "output_type": "display_data"
    }
   ],
   "source": [
    "#to understand the time taken to process each order by priority and time to process:\n",
    "df['time_to_process'] = (df['Ship Date'] - df['Order Date']).dt.days\n",
    "processing_by_priority = df.groupby('Order Priority').agg({'time_to_process': 'mean'}).reset_index()\n",
    "plt.title(\"Processing time across various order priorities\", fontsize = 16)\n",
    "plt.xlabel('Order Priority')\n",
    "plt.ylabel('Processing Time')\n",
    "bar_plot = plt.bar(x = processing_by_priority['Order Priority'], height= processing_by_priority['time_to_process'])\n",
    "for bar in bar_plot:\n",
    "    height = bar.get_height()\n",
    "    plt.text(bar.get_x() + bar.get_width() / 2, height, '%d' % int(height),\n",
    "             ha='center', va='bottom')\n",
    "\n",
    "#from this we can see that even though the priority changes, the processing time stays more or less the same."
   ]
  },
  {
   "cell_type": "code",
   "execution_count": 11,
   "metadata": {},
   "outputs": [
    {
     "data": {
      "image/png": "[encoded data removed]",
      "text/plain": [
       "<Figure size 1440x720 with 1 Axes>"
      ]
     },
     "metadata": {
      "needs_background": "light"
     },
     "output_type": "display_data"
    }
   ],
   "source": [
    "#let us investigate this further by grouping processing time and region\n",
    "processing_by_region = df.groupby('Region').agg({'time_to_process': 'mean'}).reset_index()\n",
    "plt.figure(figsize = (20,10))\n",
    "plt.title(\"Processing time across various regions\", fontsize = 16)\n",
    "plt.xlabel('Region')\n",
    "plt.ylabel('Processing Time')\n",
    "bar_plot = plt.bar(x = processing_by_region['Region'], height= processing_by_region['time_to_process'])\n",
    "for bar in bar_plot:\n",
    "    height = bar.get_height()\n",
    "    plt.text(bar.get_x() + bar.get_width() / 2, height, '%d' % int(height),\n",
    "             ha='center', va='bottom')\n",
    "\n",
    "#From this we can see that Asia has the highest processing time, whereas Sub-Saharan Africa has the lowest processing time."
   ]
  },
  {
   "cell_type": "code",
   "execution_count": 12,
   "metadata": {},
   "outputs": [
    {
     "data": {
      "image/png": "[encoded data removed]",
      "text/plain": [
       "<Figure size 1440x720 with 1 Axes>"
      ]
     },
     "metadata": {
      "needs_background": "light"
     },
     "output_type": "display_data"
    }
   ],
   "source": [
    "#Let us further investigate this by critical priority chosen by the various regions\n",
    "critical_priority = df[df['Order Priority']=='C']\n",
    "region_by_critical_priority = critical_priority.groupby('Region').size()\n",
    "plt.figure(figsize = (20,10))\n",
    "plt.title(\"Number of critical priority orders across various regions\", fontsize = 16)\n",
    "plt.xlabel('Region')\n",
    "plt.ylabel('Number of critical priority orders')\n",
    "bar_plot = plt.bar(x = region_by_critical_priority.index, height= region_by_critical_priority.values)\n",
    "for bar in bar_plot:\n",
    "    height = bar.get_height()\n",
    "    plt.text(bar.get_x() + bar.get_width() / 2, height, '%d' % int(height),\n",
    "             ha='center', va='bottom')\n"
   ]
  },
  {
   "cell_type": "code",
   "execution_count": 13,
   "metadata": {},
   "outputs": [
    {
     "data": {
      "image/png": "[encoded data removed]",
      "text/plain": [
       "<Figure size 1440x720 with 1 Axes>"
      ]
     },
     "metadata": {
      "needs_background": "light"
     },
     "output_type": "display_data"
    }
   ],
   "source": [
    "#Repeating the same thing as above, but for high priority orders:\n",
    "high_priority = df[df['Order Priority']=='H']\n",
    "region_by_high_priority = high_priority.groupby('Region').size()\n",
    "plt.figure(figsize = (20,10))\n",
    "plt.title(\"Number of high priority orders across various regions\", fontsize = 16)\n",
    "plt.xlabel('Region')\n",
    "plt.ylabel('Number of high priority orders')\n",
    "bar_plot = plt.bar(x = region_by_high_priority.index, height= region_by_high_priority.values)\n",
    "for bar in bar_plot:\n",
    "    height = bar.get_height()\n",
    "    plt.text(bar.get_x() + bar.get_width() / 2, height, '%d' % int(height),\n",
    "             ha='center', va='bottom')"
   ]
  },
  {
   "cell_type": "code",
   "execution_count": 14,
   "metadata": {},
   "outputs": [
    {
     "data": {
      "image/png": "[encoded data removed]",
      "text/plain": [
       "<Figure size 432x288 with 1 Axes>"
      ]
     },
     "metadata": {
      "needs_background": "light"
     },
     "output_type": "display_data"
    }
   ],
   "source": [
    "africa = df[df['Region'] == 'Sub-Saharan Africa']\n",
    "africa_priority = africa.groupby('Order Priority').size()\n",
    "plt.title(\"Number of orders across various priority levels in Sub-Saharan Africa\")\n",
    "plt.xlabel('Order Priority')\n",
    "plt.ylabel('Number of orders')\n",
    "bar_plot = plt.bar(x = africa_priority.index, height= africa_priority.values)\n",
    "for bar in bar_plot:\n",
    "    height = bar.get_height()\n",
    "    plt.text(bar.get_x() + bar.get_width() / 2, height, '%d' % int(height),\n",
    "             ha='center', va='bottom')\n",
    "#From the above analysis we can understand that Sub-Saharan Africa has the least amount of processing time\n",
    "#because most of the orders placed from that region have order priority = C or H."
   ]
  },
  {
   "cell_type": "code",
   "execution_count": 15,
   "metadata": {},
   "outputs": [
    {
     "data": {
      "text/plain": [
       "count    22.000000\n",
       "mean     23.863636\n",
       "std      14.109421\n",
       "min       0.000000\n",
       "25%      15.500000\n",
       "50%      26.000000\n",
       "75%      32.750000\n",
       "max      50.000000\n",
       "Name: time_to_process, dtype: float64"
      ]
     },
     "execution_count": 15,
     "metadata": {},
     "output_type": "execute_result"
    }
   ],
   "source": [
    "#This still doesnt answer why order priority of C has a high mean processing time\n",
    "#Let us investigate this further by checking out critical_priority.\n",
    "critical_priority['time_to_process'].describe()\n",
    "#from this we can see that the maximum value is 50 days, for critical priority\n"
   ]
  },
  {
   "cell_type": "code",
   "execution_count": 16,
   "metadata": {},
   "outputs": [
    {
     "data": {
      "text/html": [
       "<div>\n",
       "<style scoped>\n",
       "    .dataframe tbody tr th:only-of-type {\n",
       "        vertical-align: middle;\n",
       "    }\n",
       "\n",
       "    .dataframe tbody tr th {\n",
       "        vertical-align: top;\n",
       "    }\n",
       "\n",
       "    .dataframe thead th {\n",
       "        text-align: right;\n",
       "    }\n",
       "</style>\n",
       "<table border=\"1\" class=\"dataframe\">\n",
       "  <thead>\n",
       "    <tr style=\"text-align: right;\">\n",
       "      <th></th>\n",
       "      <th>Region</th>\n",
       "      <th>Country</th>\n",
       "      <th>Item Type</th>\n",
       "      <th>Sales Channel</th>\n",
       "      <th>Order Priority</th>\n",
       "      <th>Order Date</th>\n",
       "      <th>Order ID</th>\n",
       "      <th>Ship Date</th>\n",
       "      <th>Units Sold</th>\n",
       "      <th>Unit Price</th>\n",
       "      <th>Unit Cost</th>\n",
       "      <th>Total Revenue</th>\n",
       "      <th>Total Cost</th>\n",
       "      <th>Total Profit</th>\n",
       "      <th>time_to_process</th>\n",
       "    </tr>\n",
       "  </thead>\n",
       "  <tbody>\n",
       "    <tr>\n",
       "      <th>72</th>\n",
       "      <td>Sub-Saharan Africa</td>\n",
       "      <td>Democratic Republic of the Congo</td>\n",
       "      <td>Beverages</td>\n",
       "      <td>Online</td>\n",
       "      <td>C</td>\n",
       "      <td>2011-05-26</td>\n",
       "      <td>585920464</td>\n",
       "      <td>2011-07-15</td>\n",
       "      <td>5741</td>\n",
       "      <td>47.45</td>\n",
       "      <td>31.79</td>\n",
       "      <td>272410.45</td>\n",
       "      <td>182506.39</td>\n",
       "      <td>89904.06</td>\n",
       "      <td>50</td>\n",
       "    </tr>\n",
       "  </tbody>\n",
       "</table>\n",
       "</div>"
      ],
      "text/plain": [
       "                Region                           Country  Item Type  \\\n",
       "72  Sub-Saharan Africa  Democratic Republic of the Congo  Beverages   \n",
       "\n",
       "   Sales Channel Order Priority Order Date   Order ID  Ship Date  Units Sold  \\\n",
       "72        Online              C 2011-05-26  585920464 2011-07-15        5741   \n",
       "\n",
       "    Unit Price  Unit Cost  Total Revenue  Total Cost  Total Profit  \\\n",
       "72       47.45      31.79      272410.45   182506.39      89904.06   \n",
       "\n",
       "    time_to_process  \n",
       "72               50  "
      ]
     },
     "execution_count": 16,
     "metadata": {},
     "output_type": "execute_result"
    }
   ],
   "source": [
    "#Let us check out where we have time to process is 50 days in critical priority\n",
    "critical_priority[critical_priority['time_to_process'] == 50]"
   ]
  },
  {
   "cell_type": "code",
   "execution_count": 29,
   "metadata": {},
   "outputs": [
    {
     "data": {
      "image/png": "[encoded data removed]",
      "text/plain": [
       "<Figure size 432x288 with 1 Axes>"
      ]
     },
     "metadata": {
      "needs_background": "light"
     },
     "output_type": "display_data"
    }
   ],
   "source": [
    "#Let us check out how the number of units varies over priority\n",
    "units_priority = df.groupby('Order Priority')['Units Sold'].mean()\n",
    "plt.xlabel('Number of units sold')\n",
    "plt.ylabel('Priority')\n",
    "plt.title('Priority across number of units sold')\n",
    "plt.scatter(x = units_priority.index, y = units_priority.values)\n",
    "for i, (index, value) in enumerate(units_priority.items()):\n",
    "    rounded_value = round(value, 2)\n",
    "    plt.annotate(f\"{rounded_value:.2f}\", (i, value), xytext=(0, -15), textcoords='offset points')\n",
    "#We can see that mean number of units ordered is pretty high in C."
   ]
  },
  {
   "cell_type": "code",
   "execution_count": 34,
   "metadata": {},
   "outputs": [
    {
     "data": {
      "text/plain": [
       "Ttest_indResult(statistic=-8.931987624407942, pvalue=1.346533331861953e-08)"
      ]
     },
     "execution_count": 34,
     "metadata": {},
     "output_type": "execute_result"
    }
   ],
   "source": [
    "#Time to conduct hypothesis testing!\n",
    "#Null Hypothesis: Processing time remains unaffected by number of units ordered in critcal priority\n",
    "#Alternative hypothesis: Processing time is affected by number of units ordered in critical priority\n",
    "from scipy import stats\n",
    "significance_level = 0.05\n",
    "stats.ttest_ind(a = critical_priority['time_to_process'], b = critical_priority['Units Sold'], equal_var = False)\n",
    "#pvalue is less than significance level, so processing time is indeed affected by number of units ordered"
   ]
  },
  {
   "cell_type": "code",
   "execution_count": 35,
   "metadata": {},
   "outputs": [
    {
     "data": {
      "text/plain": [
       "<matplotlib.collections.PathCollection at 0x1cce2e08>"
      ]
     },
     "execution_count": 35,
     "metadata": {},
     "output_type": "execute_result"
    },
    {
     "data": {
      "image/png": "[encoded data removed]",
      "text/plain": [
       "<Figure size 432x288 with 1 Axes>"
      ]
     },
     "metadata": {
      "needs_background": "light"
     },
     "output_type": "display_data"
    }
   ],
   "source": [
    "#Let us explore the critical_priority data frame further to understand how the processing time varies with number of units sold\n",
    "units_time_c = [critical_priority['Units Sold'], critical_priority['time_to_process']]\n",
    "units_time_c = pd.DataFrame(units_time_c)\n",
    "units_time_c = units_time_c.T\n",
    "plt.xlabel('Number of units sold')\n",
    "plt.ylabel('Processing time')\n",
    "plt.title('Processing time across number of units sold in Critical Priority')\n",
    "plt.scatter(x = units_time_c['Units Sold'], y = units_time_c['time_to_process'])\n",
    "#This still doesnt answer why it took 50 days to process the mid-size order"
   ]
  },
  {
   "cell_type": "code",
   "execution_count": 43,
   "metadata": {},
   "outputs": [
    {
     "data": {
      "text/plain": [
       "<BarContainer object of 22 artists>"
      ]
     },
     "execution_count": 43,
     "metadata": {},
     "output_type": "execute_result"
    },
    {
     "data": {
      "image/png": "[encoded data removed]",
      "text/plain": [
       "<Figure size 1008x504 with 1 Axes>"
      ]
     },
     "metadata": {
      "needs_background": "light"
     },
     "output_type": "display_data"
    }
   ],
   "source": [
    "#Let us check out various categories of products and their processing times in critical priority mode\n",
    "category_time_c = [critical_priority['Item Type'], critical_priority['time_to_process']]\n",
    "category_time_c = pd.DataFrame(category_time_c)\n",
    "category_time_c = category_time_c.T\n",
    "plt.figure(figsize = (14, 7))\n",
    "plt.xlabel('Item Type')\n",
    "plt.ylabel('Processing time')\n",
    "plt.title('Processing time across item types sold in Critical Priority')\n",
    "plt.bar(x = category_time_c['Item Type'], height = category_time_c['time_to_process'])\n",
    "#from this we can see that beverages has the highest processing time in critical priority"
   ]
  },
  {
   "cell_type": "code",
   "execution_count": 44,
   "metadata": {},
   "outputs": [
    {
     "data": {
      "text/plain": [
       "<matplotlib.collections.PathCollection at 0x204ae670>"
      ]
     },
     "execution_count": 44,
     "metadata": {},
     "output_type": "execute_result"
    },
    {
     "data": {
      "image/png": "[encoded data removed]",
      "text/plain": [
       "<Figure size 432x288 with 1 Axes>"
      ]
     },
     "metadata": {
      "needs_background": "light"
     },
     "output_type": "display_data"
    }
   ],
   "source": [
    "#Lets check out the processing time vs units plot for beverages in critical priority\n",
    "beverages_c = critical_priority[critical_priority['Item Type'] == 'Beverages']\n",
    "plt.xlabel('Number of units sold')\n",
    "plt.ylabel('Processing time')\n",
    "plt.title('Processing time across number of units of beverages sold in Critical Priority')\n",
    "plt.scatter(x = beverages_c['Units Sold'], y = beverages_c['time_to_process'])\n",
    "#This plot still doesnt answer why the 50 days processing time for that one order as discussed above."
   ]
  },
  {
   "cell_type": "code",
   "execution_count": 50,
   "metadata": {},
   "outputs": [
    {
     "data": {
      "text/plain": [
       "count     7.000000\n",
       "mean     25.142857\n",
       "std      16.466416\n",
       "min       5.000000\n",
       "25%      14.500000\n",
       "50%      18.000000\n",
       "75%      37.000000\n",
       "max      50.000000\n",
       "Name: time_to_process, dtype: float64"
      ]
     },
     "execution_count": 50,
     "metadata": {},
     "output_type": "execute_result"
    }
   ],
   "source": [
    "beverages_c['time_to_process'].describe()"
   ]
  },
  {
   "cell_type": "code",
   "execution_count": 49,
   "metadata": {},
   "outputs": [
    {
     "name": "stdout",
     "output_type": "stream",
     "text": [
      "17    0.534135\n",
      "28    0.862113\n",
      "72    1.630518\n",
      "76    0.468540\n",
      "86    1.321282\n",
      "89    0.515394\n",
      "94    1.040158\n",
      "Name: time_to_process, dtype: float64\n"
     ]
    }
   ],
   "source": [
    "#Let us check if the 50 days data point is an outlier, by considering only the beverages dataset\n",
    "z_scores = np.abs(stats.zscore(beverages_c['time_to_process']))\n",
    "print(z_scores)\n",
    "#72 is the datapoint we were looking at, and none of the data points have z-score above 3, so it is not an outlier"
   ]
  },
  {
   "cell_type": "code",
   "execution_count": 54,
   "metadata": {},
   "outputs": [
    {
     "name": "stderr",
     "output_type": "stream",
     "text": [
      "C:\\Users\\mithu\\AppData\\Local\\Temp\\ipykernel_1072\\393090001.py:8: SettingWithCopyWarning: \n",
      "A value is trying to be set on a copy of a slice from a DataFrame.\n",
      "Try using .loc[row_indexer,col_indexer] = value instead\n",
      "\n",
      "See the caveats in the documentation: https://pandas.pydata.org/pandas-docs/stable/user_guide/indexing.html#returning-a-view-versus-a-copy\n",
      "  beverages_c['SC Cat'] = beverages_c['Sales Channel'].apply(channel_mapper)\n"
     ]
    },
    {
     "data": {
      "text/html": [
       "<div>\n",
       "<style scoped>\n",
       "    .dataframe tbody tr th:only-of-type {\n",
       "        vertical-align: middle;\n",
       "    }\n",
       "\n",
       "    .dataframe tbody tr th {\n",
       "        vertical-align: top;\n",
       "    }\n",
       "\n",
       "    .dataframe thead th {\n",
       "        text-align: right;\n",
       "    }\n",
       "</style>\n",
       "<table border=\"1\" class=\"dataframe\">\n",
       "  <thead>\n",
       "    <tr style=\"text-align: right;\">\n",
       "      <th></th>\n",
       "      <th>Region</th>\n",
       "      <th>Country</th>\n",
       "      <th>Item Type</th>\n",
       "      <th>Sales Channel</th>\n",
       "      <th>Order Priority</th>\n",
       "      <th>Order Date</th>\n",
       "      <th>Order ID</th>\n",
       "      <th>Ship Date</th>\n",
       "      <th>Units Sold</th>\n",
       "      <th>Unit Price</th>\n",
       "      <th>Unit Cost</th>\n",
       "      <th>Total Revenue</th>\n",
       "      <th>Total Cost</th>\n",
       "      <th>Total Profit</th>\n",
       "      <th>time_to_process</th>\n",
       "      <th>SC Cat</th>\n",
       "    </tr>\n",
       "  </thead>\n",
       "  <tbody>\n",
       "    <tr>\n",
       "      <th>17</th>\n",
       "      <td>Sub-Saharan Africa</td>\n",
       "      <td>Cameroon</td>\n",
       "      <td>Beverages</td>\n",
       "      <td>Offline</td>\n",
       "      <td>C</td>\n",
       "      <td>2015-04-01</td>\n",
       "      <td>519820964</td>\n",
       "      <td>2015-04-18</td>\n",
       "      <td>5430</td>\n",
       "      <td>47.45</td>\n",
       "      <td>31.79</td>\n",
       "      <td>257653.50</td>\n",
       "      <td>172619.70</td>\n",
       "      <td>85033.80</td>\n",
       "      <td>17</td>\n",
       "      <td>0</td>\n",
       "    </tr>\n",
       "    <tr>\n",
       "      <th>28</th>\n",
       "      <td>Europe</td>\n",
       "      <td>Norway</td>\n",
       "      <td>Beverages</td>\n",
       "      <td>Offline</td>\n",
       "      <td>C</td>\n",
       "      <td>2014-07-18</td>\n",
       "      <td>435608613</td>\n",
       "      <td>2014-07-30</td>\n",
       "      <td>5124</td>\n",
       "      <td>47.45</td>\n",
       "      <td>31.79</td>\n",
       "      <td>243133.80</td>\n",
       "      <td>162891.96</td>\n",
       "      <td>80241.84</td>\n",
       "      <td>12</td>\n",
       "      <td>0</td>\n",
       "    </tr>\n",
       "    <tr>\n",
       "      <th>72</th>\n",
       "      <td>Sub-Saharan Africa</td>\n",
       "      <td>Democratic Republic of the Congo</td>\n",
       "      <td>Beverages</td>\n",
       "      <td>Online</td>\n",
       "      <td>C</td>\n",
       "      <td>2011-05-26</td>\n",
       "      <td>585920464</td>\n",
       "      <td>2011-07-15</td>\n",
       "      <td>5741</td>\n",
       "      <td>47.45</td>\n",
       "      <td>31.79</td>\n",
       "      <td>272410.45</td>\n",
       "      <td>182506.39</td>\n",
       "      <td>89904.06</td>\n",
       "      <td>50</td>\n",
       "      <td>1</td>\n",
       "    </tr>\n",
       "    <tr>\n",
       "      <th>76</th>\n",
       "      <td>Australia and Oceania</td>\n",
       "      <td>Federated States of Micronesia</td>\n",
       "      <td>Beverages</td>\n",
       "      <td>Online</td>\n",
       "      <td>C</td>\n",
       "      <td>2014-10-28</td>\n",
       "      <td>217221009</td>\n",
       "      <td>2014-11-15</td>\n",
       "      <td>9379</td>\n",
       "      <td>47.45</td>\n",
       "      <td>31.79</td>\n",
       "      <td>445033.55</td>\n",
       "      <td>298158.41</td>\n",
       "      <td>146875.14</td>\n",
       "      <td>18</td>\n",
       "      <td>1</td>\n",
       "    </tr>\n",
       "    <tr>\n",
       "      <th>86</th>\n",
       "      <td>Sub-Saharan Africa</td>\n",
       "      <td>Sao Tome and Principe</td>\n",
       "      <td>Beverages</td>\n",
       "      <td>Offline</td>\n",
       "      <td>C</td>\n",
       "      <td>2011-01-16</td>\n",
       "      <td>180283772</td>\n",
       "      <td>2011-01-21</td>\n",
       "      <td>8829</td>\n",
       "      <td>47.45</td>\n",
       "      <td>31.79</td>\n",
       "      <td>418936.05</td>\n",
       "      <td>280673.91</td>\n",
       "      <td>138262.14</td>\n",
       "      <td>5</td>\n",
       "      <td>0</td>\n",
       "    </tr>\n",
       "  </tbody>\n",
       "</table>\n",
       "</div>"
      ],
      "text/plain": [
       "                   Region                           Country  Item Type  \\\n",
       "17     Sub-Saharan Africa                          Cameroon  Beverages   \n",
       "28                 Europe                            Norway  Beverages   \n",
       "72     Sub-Saharan Africa  Democratic Republic of the Congo  Beverages   \n",
       "76  Australia and Oceania    Federated States of Micronesia  Beverages   \n",
       "86     Sub-Saharan Africa             Sao Tome and Principe  Beverages   \n",
       "\n",
       "   Sales Channel Order Priority Order Date   Order ID  Ship Date  Units Sold  \\\n",
       "17       Offline              C 2015-04-01  519820964 2015-04-18        5430   \n",
       "28       Offline              C 2014-07-18  435608613 2014-07-30        5124   \n",
       "72        Online              C 2011-05-26  585920464 2011-07-15        5741   \n",
       "76        Online              C 2014-10-28  217221009 2014-11-15        9379   \n",
       "86       Offline              C 2011-01-16  180283772 2011-01-21        8829   \n",
       "\n",
       "    Unit Price  Unit Cost  Total Revenue  Total Cost  Total Profit  \\\n",
       "17       47.45      31.79      257653.50   172619.70      85033.80   \n",
       "28       47.45      31.79      243133.80   162891.96      80241.84   \n",
       "72       47.45      31.79      272410.45   182506.39      89904.06   \n",
       "76       47.45      31.79      445033.55   298158.41     146875.14   \n",
       "86       47.45      31.79      418936.05   280673.91     138262.14   \n",
       "\n",
       "    time_to_process  SC Cat  \n",
       "17               17       0  \n",
       "28               12       0  \n",
       "72               50       1  \n",
       "76               18       1  \n",
       "86                5       0  "
      ]
     },
     "execution_count": 54,
     "metadata": {},
     "output_type": "execute_result"
    }
   ],
   "source": [
    "#Let us check whether the ordering mode has any corelation for the processing time\n",
    "#Converting sales channel to categorical to conduct stats test\n",
    "def channel_mapper(channel):\n",
    "    if channel.lower() in ['offline']:\n",
    "        return 0\n",
    "    else:\n",
    "        return 1\n",
    "beverages_c['SC Cat'] = beverages_c['Sales Channel'].apply(channel_mapper)\n"
   ]
  },
  {
   "cell_type": "code",
   "execution_count": 62,
   "metadata": {},
   "outputs": [
    {
     "name": "stdout",
     "output_type": "stream",
     "text": [
      "0.5765892204508538\n"
     ]
    }
   ],
   "source": [
    "#Time to conduct a two sample test:\n",
    "#Null Hypothesis: Processing time doesnt vary across the two samples\n",
    "#Alternative Hypothesis: Processing time varies across the two samples\n",
    "#Significance level = 0.05\n",
    "t_statistic, p_value = stats.ttest_ind(beverages_c[beverages_c['SC Cat'] == 0]['time_to_process'],\n",
    "                                       beverages_c[beverages_c['SC Cat'] == 1]['time_to_process'], equal_var = False)\n",
    "print(p_value)\n",
    "#p_value is greater than significance level: failed to reject the null hypothesis"
   ]
  },
  {
   "cell_type": "code",
   "execution_count": 61,
   "metadata": {},
   "outputs": [
    {
     "data": {
      "text/plain": [
       "<matplotlib.collections.PathCollection at 0x2200b7f0>"
      ]
     },
     "execution_count": 61,
     "metadata": {},
     "output_type": "execute_result"
    },
    {
     "data": {
      "image/png": "[encoded data removed]",
      "text/plain": [
       "<Figure size 432x288 with 1 Axes>"
      ]
     },
     "metadata": {
      "needs_background": "light"
     },
     "output_type": "display_data"
    }
   ],
   "source": [
    "#Let us see how total profit varies with processing time\n",
    "plt.xlabel('Processing time')\n",
    "plt.ylabel('Total profit')\n",
    "plt.title('Total profit across processing time for beverages in critical priority')\n",
    "plt.scatter(x = beverages_c['time_to_process'], y = beverages_c['Total Profit'])\n"
   ]
  },
  {
   "cell_type": "code",
   "execution_count": 63,
   "metadata": {},
   "outputs": [
    {
     "data": {
      "text/plain": [
       "Ttest_indResult(statistic=-9.136089646819773, pvalue=9.672383589930655e-05)"
      ]
     },
     "execution_count": 63,
     "metadata": {},
     "output_type": "execute_result"
    }
   ],
   "source": [
    "#Let us conduct hypothesis test to check whether processing time impacts total profit\n",
    "#Null Hypothesis: Processing time does not impact total profit\n",
    "#Alternative Hypothesis: Processing time does impact total profit\n",
    "#Significance level = 0.05\n",
    "stats.ttest_ind(a = beverages_c['time_to_process'], b = beverages_c['Total Profit'], equal_var = False)\n",
    "#p value much lesser than significance level, so null hypothesis is rejected, Processing time does have an impact on total profit"
   ]
  },
  {
   "cell_type": "code",
   "execution_count": 64,
   "metadata": {},
   "outputs": [],
   "source": [
    "#This brings us to the conclusion that, the time_to_process = 50 data point is not an outlier.\n",
    "#To find the actual reason for the time_to_process variable being so high, further investigation is required\n",
    "#This data is not sufficient to answer our question. We need additional data to answer that question\n",
    "#This brings us to the end of our exploratory data analysis"
   ]
  }
 ],
 "metadata": {
  "kernelspec": {
   "display_name": "Python 3",
   "language": "python",
   "name": "python3"
  },
  "language_info": {
   "codemirror_mode": {
    "name": "ipython",
    "version": 3
   },
   "file_extension": ".py",
   "mimetype": "text/x-python",
   "name": "python",
   "nbconvert_exporter": "python",
   "pygments_lexer": "ipython3",
   "version": "3.8.3"
  }
 },
 "nbformat": 4,
 "nbformat_minor": 2
}
